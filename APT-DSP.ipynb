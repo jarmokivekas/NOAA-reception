{
 "cells": [
  {
   "cell_type": "markdown",
   "metadata": {},
   "source": [
    "$$ sync = (0.5 + 0.5 * square) * modRange + modMin $$"
   ]
  },
  {
   "cell_type": "code",
   "execution_count": null,
   "metadata": {
    "collapsed": false
   },
   "outputs": [],
   "source": [
    "from __future__ import division\n",
    "syncLen = 39\n",
    "spaceLen = 47\n",
    "videoLen = 909\n",
    "telemetryLen = 45\n",
    "lineLen = 2080\n",
    "\n",
    "rate = 4160\n",
    "T = 1/rate\n",
    "\n",
    "# modulation index 95 % \n",
    "modMax = 244 / 256\n",
    "modMin = 11 / 256\n",
    "modRange = (244-11) / 256\n",
    "\n",
    "from scipy import signal\n",
    "import matplotlib.pyplot as plt\n",
    "import numpy as np\n",
    "%matplotlib inline\n",
    "\n",
    "mul = 8000\n",
    "time = np.linspace(0.0,1,mul)\n",
    "\n",
    "# 1040 Hz 95 % modulating square wave\n",
    "syncA = signal.square(2*np.pi* 1040 *time, 0.5)\n",
    "# move it between 0..1\n",
    "syncA = [0.5 + 0.5*val for val in syncA]\n",
    "# move it between \n",
    "syncA = [modRange * val + modMin for val in syncA]\n",
    "\n",
    "\n",
    "plt.plot(time, syncA)\n",
    "\n",
    "#time = linspace(0, 1, 8000)\n",
    "plt.grid()\n",
    "plt.ylim(0, 1)\n",
    "plt.xlim(0, syncLen*T)\n",
    "\n"
   ]
  },
  {
   "cell_type": "code",
   "execution_count": 36,
   "metadata": {
    "collapsed": true
   },
   "outputs": [],
   "source": [
    "from scipy import signal\n",
    "import matplotlib.pyplot as plt\n",
    "import numpy as np\n",
    "import math\n",
    "import random\n",
    "\n",
    "def syncA():\n",
    "    #Async pre-wait 4 T\n",
    "    data = mul*4*[11]\n",
    "    # 7 1040 Hz 50% duty pulses\n",
    "    for i in xrange(0,7):\n",
    "        data += mul*2 * [244]\n",
    "        data += mul*2*[11]\n",
    "    data += mul*7 * [11]\n",
    "    return data\n",
    "\n",
    "def syncB():\n",
    "        # syncB pre-wait 4 T\n",
    "    data = mul*4*[11]\n",
    "    # 7 832 Hz 3/5 duty pulses\n",
    "    for i in xrange(0,7):\n",
    "        data += mul*3 * [244]\n",
    "        data += mul*2*[11]\n",
    "    return data\n",
    "\n",
    "def markerA():\n",
    "    return mul*47 * [11]\n",
    "def markerB():\n",
    "    return mul*47 * [244]\n",
    "def videoA():\n",
    "    data = 0*[0]\n",
    "    for i in range(0,mul*909):\n",
    "        data += [int((i*(244-11))/(mul*909) + 11)]\n",
    "    return data\n",
    "def videoB():\n",
    "    data = mul*909*[0]\n",
    "    data = [random.randint(11,244) for val in data]\n",
    "    return data\n",
    "\n",
    "def telemetryA():\n",
    "    return mul*45 * [128]\n",
    "def telemetryB():\n",
    "    return mul*45 * [128]\n",
    "\n",
    "def line():\n",
    "    data = syncA()\n",
    "    data += markerA()\n",
    "    data += videoA()\n",
    "    data += telemetryA()\n",
    "    data += syncB()\n",
    "    data += markerB()\n",
    "    data += videoB()\n",
    "    data += telemetryB()\n",
    "    return data\n",
    "\n",
    "def frame():\n",
    "    data = [0]*0\n",
    "    for i in xrange(0,16):\n",
    "        data += line()\n",
    "    return data"
   ]
  },
  {
   "cell_type": "code",
   "execution_count": 37,
   "metadata": {
    "collapsed": false,
    "scrolled": true
   },
   "outputs": [
    {
     "name": "stdout",
     "output_type": "stream",
     "text": [
      "2080\n",
      "2080\n",
      "39\n",
      "47\n",
      "909\n",
      "45\n",
      "39\n",
      "47\n",
      "909\n",
      "45\n",
      "2080\n",
      "2080\n"
     ]
    }
   ],
   "source": [
    "mul = 1\n",
    "\n",
    "data = line()\n",
    "#data = signal.decimate(data, mul)\n",
    "idx = np.linspace(0,len(data) -1 ,len(data))\n",
    "\n",
    "import sys\n",
    "\n",
    "print len(idx)\n",
    "print len(data)\n",
    "\n",
    "#subcarrier = [data * np*sin(np.pi*2*2400)]\n",
    "print(len(syncA()))\n",
    "print(len(markerA()))\n",
    "print(len(videoA()))\n",
    "print(len(telemetryA()))\n",
    "print(len(syncB()))\n",
    "print(len(markerB()))\n",
    "print(len(videoB()))\n",
    "print(len(telemetryB()))\n",
    "\n",
    "total = len(syncA())+len(markerA())+len(videoA())+len(telemetryA())+len(syncB())+len(markerB())+len(videoB())+len(telemetryB())\n",
    "print(total)\n",
    "#plt.step(idx, data)\n",
    "#plt.plot(idx, data)\n",
    "#plt.show()\n",
    "print 2080 * mul"
   ]
  },
  {
   "cell_type": "code",
   "execution_count": 17,
   "metadata": {
    "collapsed": false
   },
   "outputs": [],
   "source": [
    "# data signal for creating a bitmap\n",
    "mul = 1\n",
    "data = line()\n",
    "idx = np.linspace(0,len(data) -1 ,len(data))\n",
    "plt.scatter(idx, data)\n",
    "plt.show()"
   ]
  }
 ],
 "metadata": {
  "kernelspec": {
   "display_name": "Python 2",
   "language": "python",
   "name": "python2"
  },
  "language_info": {
   "codemirror_mode": {
    "name": "ipython",
    "version": 2
   },
   "file_extension": ".py",
   "mimetype": "text/x-python",
   "name": "python",
   "nbconvert_exporter": "python",
   "pygments_lexer": "ipython2",
   "version": "2.7.6"
  }
 },
 "nbformat": 4,
 "nbformat_minor": 0
}
