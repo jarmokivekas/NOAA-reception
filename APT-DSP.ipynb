{
 "cells": [
  {
   "cell_type": "markdown",
   "metadata": {},
   "source": [
    "This script implements functions for generating APT data signals and modulated APT baseband 2.4 kHz subcarrier signals\n",
    "\n",
    "- source: NOAA KLM user's guide, Section 4.2: APT System\n",
    "- www.ncdc.noaa.gov/oa/pod-guide/ncdc/docs/klm/html/c4/sec4-2.htm\n",
    "\n",
    "\n",
    "- **TODO:** code the telemtry data to have the proper wedge values. \n",
    "- **TODO:** minute markers spaces should have a 2px 11 or 244 (whichever is inverted from the backgroud) line in them every minute"
   ]
  },
  {
   "cell_type": "code",
   "execution_count": 1,
   "metadata": {
    "collapsed": false
   },
   "outputs": [],
   "source": [
    "# this line makes the plots visilble in the jupyter notebook\n",
    "\n",
    "from __future__ import division\n",
    "from scipy import signal\n",
    "import matplotlib.pyplot as plt\n",
    "import numpy as np\n",
    "import math\n",
    "import random\n",
    "\n",
    "\"\"\"\n",
    "mul is a global variable that is used in the\n",
    "generator functions in order to produce the correct\n",
    "amout of data. Mul should be an interger value.\n",
    "\n",
    "The final sample rate of the data is 2080 * mul\n",
    "\n",
    "Considering that the data will be modulated with a \n",
    "\"\"\"\n",
    "mul = 1\n",
    "\n",
    "def syncA():\n",
    "    data = mul*4*[11]\n",
    "    # 7 1040 Hz 50% duty pulses\n",
    "    for i in xrange(0,7):\n",
    "        data += mul*2 * [244]\n",
    "        data += mul*2*[11]\n",
    "    data += mul*7 * [11]\n",
    "    return data\n",
    "\n",
    "def syncB():\n",
    "    data = mul*4*[11]\n",
    "    # 7  832 Hz 3/5 duty pulses\n",
    "    for i in xrange(0,7):\n",
    "        data += mul*3 * [244]\n",
    "        data += mul*2*[11]\n",
    "    return data\n",
    "\n",
    "def markerA():\n",
    "    return mul*47 * [11]\n",
    "def markerB():\n",
    "    return mul*47 * [244]\n",
    "\n",
    "\n",
    "def videoA():\n",
    "    \"\"\"\n",
    "    Note that since here are only 244-11=233 pixel values\n",
    "    avilable, the quantisized gradient will have\n",
    "    multiple consicutive pixels with the same value\n",
    "    \"\"\"\n",
    "    data = 0*[0]\n",
    "    for i in range(0,909):\n",
    "        data += [int((i*(244-11))/(909) + 11)] * mul\n",
    "    return data\n",
    "def videoB():\n",
    "    \"\"\"fills B channel with random data\"\"\"\n",
    "    data = 0*[0]\n",
    "    for i in range(0,909):\n",
    "        data += [random.randint(11,244)] * mul\n",
    "    return data\n",
    "\n",
    "\"\"\" These still need some work: implement wedges\"\"\"\n",
    "def telemetryA():\n",
    "    return mul*45 * [128]\n",
    "def telemetryB():\n",
    "    return mul*45 * [128]\n",
    "\n",
    "\n",
    "def line():\n",
    "    \"\"\"organize all the parts of a line in the right order\"\"\"\n",
    "    data = syncA()\n",
    "    data += markerA()\n",
    "    data += videoA()\n",
    "    data += telemetryA()\n",
    "    data += syncB()\n",
    "    data += markerB()\n",
    "    data += videoB()\n",
    "    data += telemetryB()\n",
    "    return data\n",
    "\n",
    "def frame():\n",
    "    \"\"\"an APT frome is 16 lines high\"\"\"\n",
    "    data = [0]*0\n",
    "    for i in xrange(0,16):\n",
    "        data += line()\n",
    "    return data"
   ]
  },
  {
   "cell_type": "markdown",
   "metadata": {},
   "source": [
    "This next part show an example of how to use the\n",
    "APT functions in a way that will work well with \n",
    "DSP techniques, and plot some visualizations of\n",
    "what APT data looks like"
   ]
  },
  {
   "cell_type": "code",
   "execution_count": 2,
   "metadata": {
    "collapsed": false,
    "scrolled": true
   },
   "outputs": [],
   "source": [
    "\n",
    "# make sure we will have plenty of samples\n",
    "mul = 8\n",
    "# convert from int space 0...256 to float space 0 ... 1.0\n",
    "data = line()\n",
    "data = [val /255 for val in data]\n",
    "\n",
    "# plot agains eiher symbol index, or actual time\n",
    "# idx =  np.linspace(0,len(data) -1 ,len(data))\n",
    "time = np.linspace(0,0.5,len(data))\n",
    "\n",
    "plt.figure(figsize=(15,5))\n",
    "plt.grid()\n",
    "plt.title(\"One line of an APT frame (gradient and random video data)\")\n",
    "plt.ylim(0, 1)\n",
    "plt.xlabel(\"time [s]\")\n",
    "plt.ylabel(\"Signal value\")\n",
    "plt.plot(time, data)\n",
    "\n",
    "plt.figure(figsize=(15,5))\n",
    "plt.grid()\n",
    "plt.title(\"Video A to B transition (telemetry, sync, and marker)\")\n",
    "plt.ylim(0, 1)\n",
    "plt.xlim(0.22, 0.28)\n",
    "plt.xlabel(\"time [s]\")\n",
    "plt.ylabel(\"Signal value\")\n",
    "plt.plot(time, data)\n",
    "\n",
    "plt.show()\n"
   ]
  },
  {
   "cell_type": "code",
   "execution_count": 3,
   "metadata": {
    "collapsed": false
   },
   "outputs": [],
   "source": [
    "# data signal for creating a bitmap\n",
    "mul = 1\n",
    "data = [0]*0\n",
    "for i in range(0,20):\n",
    "    data += frame()\n",
    "image_data = np.reshape(data, (-1, 2080))\n",
    "plt.figure(figsize=(10,5))\n",
    "\n",
    "plt.imshow(image_data, cmap=\"gray\")\n",
    "plt.show()\n",
    "\n"
   ]
  },
  {
   "cell_type": "code",
   "execution_count": null,
   "metadata": {
    "collapsed": true
   },
   "outputs": [],
   "source": []
  }
 ],
 "metadata": {
  "kernelspec": {
   "display_name": "Python 2",
   "language": "python",
   "name": "python2"
  },
  "language_info": {
   "codemirror_mode": {
    "name": "ipython",
    "version": 2
   },
   "file_extension": ".py",
   "mimetype": "text/x-python",
   "name": "python",
   "nbconvert_exporter": "python",
   "pygments_lexer": "ipython2",
   "version": "2.7.6"
  }
 },
 "nbformat": 4,
 "nbformat_minor": 0
}
