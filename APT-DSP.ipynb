{
 "cells": [
  {
   "cell_type": "markdown",
   "metadata": {},
   "source": [
    "This script implements functions for generating APT data signals and modulated APT baseband 2.4 kHz subcarrier signals\n",
    "\n",
    "- source: NOAA KLM user's guide, Section 4.2: APT System\n",
    "- www.ncdc.noaa.gov/oa/pod-guide/ncdc/docs/klm/html/c4/sec4-2.htm\n",
    "\n",
    "**TODO:** code the telemtry data to have the proper wedge values. "
   ]
  },
  {
   "cell_type": "code",
   "execution_count": 73,
   "metadata": {
    "collapsed": true
   },
   "outputs": [],
   "source": [
    "\n",
    "from __future__ import division\n",
    "from scipy import signal\n",
    "import matplotlib.pyplot as plt\n",
    "import numpy as np\n",
    "import math\n",
    "import random\n",
    "\n",
    "def syncA():\n",
    "    data = mul*4*[11]\n",
    "    # 7 1040 Hz 50% duty pulses\n",
    "    for i in xrange(0,7):\n",
    "        data += mul*2 * [244]\n",
    "        data += mul*2*[11]\n",
    "    data += mul*7 * [11]\n",
    "    return data\n",
    "\n",
    "def syncB():\n",
    "    data = mul*4*[11]\n",
    "    # 7  832 Hz 3/5 duty pulses\n",
    "    for i in xrange(0,7):\n",
    "        data += mul*3 * [244]\n",
    "        data += mul*2*[11]\n",
    "    return data\n",
    "\n",
    "def markerA():\n",
    "    return mul*47 * [11]\n",
    "def markerB():\n",
    "    return mul*47 * [244]\n",
    "\n",
    "\n",
    "def videoA():\n",
    "    \"\"\"\n",
    "    Note that since here are only 244-11 pixel values\n",
    "    avilable, the quantisized gradient will have\n",
    "    multiple consicutive pixels with the same value½\n",
    "    \"\"\"\n",
    "    data = 0*[0]\n",
    "    for i in range(0,909):\n",
    "        data += [int((i*(244-11))/(909) + 11)] * mul\n",
    "    return data\n",
    "def videoB():\n",
    "    data = 0*[0]\n",
    "    for i in range(0,909):\n",
    "        data += [random.randint(11,244)] * mul\n",
    "    return data\n",
    "\n",
    "def telemetryA():\n",
    "    return mul*45 * [128]\n",
    "def telemetryB():\n",
    "    return mul*45 * [128]\n",
    "\n",
    "def line():\n",
    "    data = syncA()\n",
    "    data += markerA()\n",
    "    data += videoA()\n",
    "    data += telemetryA()\n",
    "    data += syncB()\n",
    "    data += markerB()\n",
    "    data += videoB()\n",
    "    data += telemetryB()\n",
    "    return data\n",
    "\n",
    "def frame():\n",
    "    data = [0]*0\n",
    "    for i in xrange(0,16):\n",
    "        data += line()\n",
    "    return data"
   ]
  },
  {
   "cell_type": "code",
   "execution_count": 78,
   "metadata": {
    "collapsed": false,
    "scrolled": true
   },
   "outputs": [],
   "source": [
    "\"\"\"\n",
    "mul is a global variable that is used in the\n",
    "generator functions in order to produce the correct\n",
    "amout of data. Mul should be an interger value.\n",
    "\n",
    "The final sample rate of the data is 2080 * mul\n",
    "\n",
    "Considering that the data will be modulated with a \n",
    "\"\"\"\n",
    "mul = 8\n",
    "data = line()\n",
    "# convert from 0 ... 256 space to float space 0.0 ... 1.0\n",
    "data = [val /255 for val in data]\n",
    "idx =  np.linspace(0,len(data) -1 ,len(data))\n",
    "time = np.linspace(0,0.5,len(data))\n",
    "\n",
    "\n",
    "\n",
    "#spec = np.fft.fft(data)\n",
    "\n",
    "plt.scatter(time, data)\n",
    "plt.plot(time, data)\n",
    "#plt.plot(spec)\n",
    "plt.show()\n"
   ]
  },
  {
   "cell_type": "code",
   "execution_count": 67,
   "metadata": {
    "collapsed": false
   },
   "outputs": [],
   "source": [
    "# data signal for creating a bitmap\n",
    "mul = 1\n",
    "data = line()\n",
    "idx = np.linspace(0,len(data) -1 ,len(data))\n",
    "plt.scatter(idx, data)\n",
    "plt.show()"
   ]
  }
 ],
 "metadata": {
  "kernelspec": {
   "display_name": "Python 2",
   "language": "python",
   "name": "python2"
  },
  "language_info": {
   "codemirror_mode": {
    "name": "ipython",
    "version": 2
   },
   "file_extension": ".py",
   "mimetype": "text/x-python",
   "name": "python",
   "nbconvert_exporter": "python",
   "pygments_lexer": "ipython2",
   "version": "2.7.6"
  }
 },
 "nbformat": 4,
 "nbformat_minor": 0
}
