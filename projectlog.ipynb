{
 "cells": [
  {
   "cell_type": "markdown",
   "metadata": {},
   "source": [
    "# 2015-12-2\n",
    "\n",
    "Setting up equipment for reception and some link budget calculation. Started designing the RF front-end filter for the band.\n",
    "\n",
    "## Gear\n",
    "\n",
    "This is only an attemp to hopefully see the downlink transmission on the spectrum analyzer. A Rhode & Schwarz FSH 4 portable spectrum analyzer used as the \"receiver\". The recepetion attempt was made using a is a log-periogic antenna\n",
    "\n",
    "**TODO:** get the spec for the antenna used\n",
    "\n",
    "## Contacts\n",
    "\n",
    "### Two failed attempts\n",
    "\n",
    "The first two attempts at detecting the APT transmission using the FSH 4 and a log-periodic antenna failed.\n",
    "\n",
    "Reception configuration:\n",
    "\n",
    "- Spectrum analyzer as receiver\n",
    "    - center: 137.5MHz\n",
    "    - span: 1MHz\n",
    "    - RBW: 3kHz\n",
    "    - Att: 0 dB\n",
    "- antenna: wideband log-periodic\n",
    "\n",
    "The RBW setting might have been something else, I'm not sure. In retrospect, considering the 34 kHz width an APT transmission, the spectrum analyser setting might have not been suitable. The satellite orbits were not great either, and we were not exaclty sure in which direction south was.\n",
    "\n",
    "**EDIT:** it is likely that the 137.5 MHz fequency was not correct, since the satellites use different downlink frequencies.\n",
    "\n",
    "### 16:27 UTC+2 NOAA 15 orbit 91282 137.5000 MHz\n",
    "\n",
    "This attempt seemed promising, with an orbit peak elevation of over 70 degrees, which is higher than the two earlier attemps. But, no luck.\n",
    "\n",
    "We also tried another antenna (**TODO:** what antenna?) but saw no difference.\n",
    "\n",
    "Reception configuration:\n",
    "\n",
    "- FSH 4 Spectrum analyzer as receiver\n",
    "    - center: 137.5 MHZ\n",
    "    - span: 200 kHz\n",
    "    - RBW: 3 kHz\n",
    "    - Att: 0 dB\n",
    "- antenna: wideband log-periodic\n",
    "\n",
    "\n",
    "### 16:50 UTC+2 NOAA 18 orbit 54283 137.9125 MHz\n",
    "\n",
    "**successfully viewed the transmission** on the spectrum analyzer. \n",
    "\n",
    "Reception configuration:\n",
    "\n",
    "- FSH 4 Spectrum analyzer as receiver\n",
    "    - center: 137.9125 MHZ\n",
    "    - span: 100 kHz\n",
    "    - RBW: 100 Hz\n",
    "    - Att: 0dB\n",
    "    - ref-level: -60 dBm\n",
    "- antenna: wideband log-periodic\n",
    "\n"
   ]
  },
  {
   "cell_type": "code",
   "execution_count": 1,
   "metadata": {
    "collapsed": false
   },
   "outputs": [
    {
     "name": "stdout",
     "output_type": "stream",
     "text": [
      "-163.97722915699805\n",
      "-149.20601660980142\n"
     ]
    }
   ],
   "source": [
    "noise_power_100HzHz = 10 * log(10, 138e-23 * 290 * 100)  # P = kTB\n",
    "noise_power_3kHz =  10 * log(10, 138e-23 * 290 * 3000)\n",
    "println(noise_power_100Hz)\n",
    "println(noise_power_3kHz)"
   ]
  },
  {
   "cell_type": "markdown",
   "metadata": {},
   "source": [
    "<img src=\"./photos/20151202_170044.jpg\" alt=\"ATP reception spectur\" width=\"400\"/>"
   ]
  },
  {
   "cell_type": "markdown",
   "metadata": {},
   "source": [
    "# 2015-12-3\n",
    "\n",
    "\n",
    "## 16:40 UTC+2 NOAA18 orbit 54297 137.9125 MHz\n",
    "\n",
    "A semi-successful test. The RTL-SDR definitely received something, but there is seems to be a signal-nosie ration problem when trying to decode the image from the baseband recording\n",
    "\n",
    "\n",
    "- FSH 4 Spectrum analyzer\n",
    "    - center: 137.9125 MHz\n",
    "    - span: 100 kHz\n",
    "    - RBW: 100 Hz\n",
    "    - Att: 0 dB\n",
    "    - ref-level: -60dB\n",
    "- RTL-SRD dongle\n",
    "    - demodulation: narrow FM\n",
    "    - software filter: 40kHz\n",
    "    \n",
    "![screenshot of gqrx + gnome predict](./photos/test-screenshots/Screenshot from 2015-12-03 16:46:28.png)\n",
    "    "
   ]
  },
  {
   "cell_type": "markdown",
   "metadata": {
    "collapsed": true
   },
   "source": [
    "# 2015-12-08\n",
    "\n",
    "Got some coax connectors and copper board for building the band pass filter. Measured the inductance of some adjustable RF-inductors."
   ]
  },
  {
   "cell_type": "markdown",
   "metadata": {},
   "source": [
    "# 2015-12-14\n",
    "\n",
    "Three reception attemps using log-periodic antenna (tests 6, 7, and 8) and RTL dongle. Tried saving both raw IQ data as well as narrow-FM demodulated data, although gqrx seems not to make any diffenerence between the two.\n",
    "\n",
    "After trying to decode all of the recordings with wxtoimg, there are no successuful results."
   ]
  },
  {
   "cell_type": "markdown",
   "metadata": {},
   "source": [
    "# 2016-02-10\n",
    "\n",
    "Built a simple bandpass filter using an adjustable capacitance tapped LC circuit. The amplitude response was ok frequency wise, but the passband attenuation was about 25 dB for some reason.\n",
    "\n",
    "Turns out the coax connectors used had S-connectors, which are rated for 75 $\\Omega$, not 50 $\\Omega$ for which the both the circuit and the circuit analyzer are rated.\n",
    "\n",
    "<img alt=\"photo of the filter amplitude response. It has 25 dB passband attenuation\" src=\"./photos/20160211_133212.jpg\" width=\"400\" />\n",
    "\n",
    "\n",
    "<img src=\"./photos/20160211_133454.jpg\" alt=\"Coax S-connector\" width =\"400\"/>"
   ]
  },
  {
   "cell_type": "markdown",
   "metadata": {},
   "source": [
    "# 2016-02-11\n",
    "\n",
    "Spent a bunch of time looking into quadfilar helix antennas. Found some dimension calculators online and build instructions online:\n",
    "\n",
    "- http://www.jcoppens.com/ant/qfh/calc.en.php\n",
    "- http://homepage.ntlworld.com/phqfh1/qfh_diy_guide.htm\n",
    "- http://www.housedillon.com/?p=1461\n",
    "\n",
    "## Dimension from jcoppens caclulator\n",
    "\n",
    "Larger loop\n",
    "\n",
    "element                           | larger  | smaller\n",
    "----------------------------------|---------| \n",
    "Total length                      | 2.40 m | 02.28 m\n",
    "Vertical separator                | 0.88 m | 0.84 m\n",
    "Total compensated length          | 2.41 m | 2.29 m\n",
    "Antenna height                    | 0.73 m | 0.69 m\n",
    "Internal diameter                 | 0.31 m | 0.30 m\n",
    "Horizontal separator              | 0.32 m | 0.30 m\n",
    "\n",
    "\n",
    "\n",
    "\n",
    "- Design frequency:\n",
    "\t- Evident?\n",
    "- Number of turns (twist):\n",
    "\t- What's the twist of the antenna? (normally 0.5 (180 degrees)\n",
    "- Length of one turn:\n",
    "\t- A few variations of the antenna exist. Normally the circumference (length of the loop) is 1 wavelength, but 1.5 wavelength and 2 wavelength versions exist.\n",
    "- Bending diameter:\n",
    "\t- As it's impossible to bend the corner abruptly at 90 degrees, this value is needed for the calculations. It's measured from the bending center to the center of the tube.\n",
    "- Conductor diameter:\n",
    "\t- External diameter of the tube or coax cable.\n",
    "- Diameter/height ratio:\n",
    "\t- Most frequently this ratio is 0.44, but slightly lower values (0.3 to 0.4) give better horizon coverage.\n",
    "- Wavelength:\n",
    "\t- Wavelength, corresponding to the selected frequency.\n",
    "- Compensated wavelength:\n",
    "\t- Wavelength, compensated according to the conductor diameter.\n",
    "- Bending correction:\n",
    "\t- Correction value needed according to the bending diameter.\n",
    "- Total length:\n",
    "\t- Total length of the loop, before compensation.\n",
    "- Total loop cmpensated length:\n",
    "\t- Total length of the loop, compensated for the bending effect, and the fact that the loop must be slightly larger (or smaller). This is the amount of tubing necessary for this loop.\n",
    "- Compensated vertical separation:\n",
    "\t- Vertical separation (without the 'bends').\n",
    "- Compensated horizontal separation:\n",
    "\t- This is in fact the horizontal part without the 'bends', and corresponds to the horizontal pipe necessary to support the cable.\n",
    "- Antenna height:\n",
    "\t- Height of the loop (twisted!).\n",
    "- Internal diameter:\n",
    "\t- The diameter of the (imaginary) cylinder on which the loop would be wound. "
   ]
  },
  {
   "cell_type": "markdown",
   "metadata": {},
   "source": [
    "# 2016-03-02\n",
    "\n",
    "Designed three different bandpass circuits using AWR. They capacitance tappe circuits with either 1, 2, or 3 LC tank circiuts\n",
    "\n",
    "See the [/circuits/bandpass-filter-AWR/](./circuits/bandpass-filter-AWR/) directory the AWR CAD files and screenshots of the bandpass filter circuit and their analysis results."
   ]
  },
  {
   "cell_type": "markdown",
   "metadata": {},
   "source": [
    "# 2016-03-10\n",
    "\n",
    "Wrote and refactored a bunch of documentaition and cleaned some files. \n",
    "\n",
    "Learned how to use `wxtoimg` from the commandline. \n",
    "\n",
    "```\n",
    "wxtoimg -tn -N some.wav > some.wav.jpg\n",
    "```\n",
    "\n",
    "The `-tn` options sets the satellite type to NOAA. `-N` specifies a northbound pass. The passes that happen around 1600 UTC+2 are all northbound.\n",
    "\n",
    "Decoded images from all the reception attempts can be found in the [/recodings](./recordings) directory. As of yet, non of the recordings decode properly, they are mostly noise. Below is an example of a decoded image. The gap between the two sensor images is visible when viewing the image at native resolution.\n",
    "\n",
    "![whitenoise image decoded from ATP transmission](./recordings/gqrx-20151214-141308.wav.jpg)"
   ]
  },
  {
   "cell_type": "markdown",
   "metadata": {},
   "source": [
    "# 2016-03-11\n",
    "\n",
    "Wrote some python DSP code [inte the DSP notebook](./APT-DSP.ipynb)\n",
    "\n",
    "The test images procduced by the script contain a gradient in Video A and random data in Video B \n",
    "\n",
    "\n",
    "## The data frequency higher than carrier\n",
    "\n",
    "Each line is 2080 pixels wide, and and the duration af the line is 0.5 seconds. The lowest frequency in the data is therfore the symbol rate 4160 Hz. In the APT system, the image data is modulated using AM modulation with a modulation index of 94 % with a 2400 Hz carrier. \n",
    "\n",
    "**TODO:** what does the spectrum look like ?\n",
    "**TODO:** how well does it modulate into a 34 kHz FM transmission\n",
    "\n",
    "## AM demodulating\n",
    "\n",
    "An AM modulated carrier can be easily demodulated if the carrier frequency is know. By sampling the waveform at 4 times the carrier frequency, we can take any two consecutive samples and get the carrier amplitude at that moment in time.\n",
    "\n",
    "$A = \\sqrt{s_1^2 + s:2^2}$\n",
    "\n",
    "where $s_1$ and $s_2$ are two consecutive samples. If it's not obvious, try to draw a sine wave and do the math using any two samples separated by 90°. This will be true for an two consecutive points\n",
    "\n",
    "## ATP data signal waveform\n",
    "\n",
    "Below are two graphs generated with the DSP notebook. One depicts the waveform of a single ATP line, while the other depicts a more detailed view of the middle of the first waveform.\n",
    "\n",
    "![\"graph of APT-line-waveform-overview\"](./photos/APT-line-waveform-overview.svg)\n",
    "![\"graph of APT-line-waveform-video-transition\"](./photos/APT-line-waveform-video-transition.svg)\n",
    "\n"
   ]
  },
  {
   "cell_type": "markdown",
   "metadata": {},
   "source": [
    "# Time overview"
   ]
  },
  {
   "cell_type": "code",
   "execution_count": 4,
   "metadata": {
    "collapsed": false
   },
   "outputs": [],
   "source": [
    "using Gadfly\n",
    "\n",
    "time = [\n",
    "    16.00 20.00 Date(2015,11,30); \n",
    "    16.00 20.00 Date(2015,11,29);\n",
    "    16.00 20.00 Date(2015,11,28); # thes fors ones are just some guesses\n",
    "    16.00 20.00 Date(2015,12,1 ); # although these later ones are not the accurate either\n",
    "    09.00 17.50 Date(2015,12,2 ); # Whoo! first contact\n",
    "    19.00 20.00 Date(2015,12,2 ); # writing documentation about first contact\n",
    "    08.00 11.00 Date(2015,12,3 ); # designing df band pass filter\n",
    "    11.30 15.00 Date(2015,12,3 ); # calculating coil sizes and stuff\n",
    "    15.00 17.00 Date(2015,12,3 ); # prepping for test no. 5\n",
    "    12.00 13.40 Date(2015,12,3 ); # bandpass filter build techniqe planning \n",
    "    15.50 18.50 Date(2015,12,14); # tests 6,7,8, and trying to decode recordings\n",
    "    14.50 16.00 Date(2016, 2,8 ); # Simulating bandpassfilter using AWR \n",
    "    09.00 12.00 Date(2016, 2,10); # built bandpass filter prototype, dealt with caax connectors\n",
    "    12.50 13.70 Date(2016, 2,11); # competed first bandpass protopyte, analyzed it. bad results\n",
    "    15.50 16.50 Date(2016, 2,11); # looking into antennas, reading existing documentation\n",
    "    18.30 19.75 Date(2016, 2,11); # looking into antennas, palning on building QFH\n",
    "     9.00 12.15 Date(2016, 3,2 ); # after the bad results from the earlier prototype, made new simulations using AVR\n",
    "    14.00 19.00 Date(2016, 3,10); # improved documentation and organized files. learned ot use wxtoim commandline\n",
    "    0.0   6.00  Date(2016, 3,11); # python DSP code for generating APT baseband signals\n",
    "    7.0   9.0   Date(2016, 3,11); # antenna stuff + link budget\n",
    "    13.0  16.00 Date(2016, 3,11); # DSP stuff for generating APT data signals\n",
    "    16.00 17.5  Date(2016, 3,11); # generate bitmaps from APT data signals\n",
    "    18.25 22.0  Date(2016, 3,11); # DSP can now generate WAV files. wxtoim almost decodes them\n",
    "    22.30 \n",
    "]\n",
    "\n",
    "items = length(time)÷3\n",
    "lengths = time[items+1:items*2] - time[1:items]\n",
    "dates = time[items*2+1:end];\n"
   ]
  }
 ],
 "metadata": {
  "kernelspec": {
   "display_name": "Julia 0.4.1",
   "language": "julia",
   "name": "julia-0.4"
  },
  "language_info": {
   "file_extension": ".jl",
   "mimetype": "application/julia",
   "name": "julia",
   "version": "0.4.2"
  }
 },
 "nbformat": 4,
 "nbformat_minor": 0
}
