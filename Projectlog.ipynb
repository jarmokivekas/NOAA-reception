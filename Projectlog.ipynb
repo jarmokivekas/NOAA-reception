{
 "cells": [
  {
   "cell_type": "markdown",
   "metadata": {},
   "source": [
    "# 2015-12-1\n",
    "\n",
    "Setting up equipment for reception and some link budget calculation. Started designing the RF front-end filter for the band.\n",
    "\n",
    "## Gear\n",
    "\n",
    "This is only an attemp to hopefully see the downlink transmission on the spectrum analyzer. A Rhode & Schwarz FSH 4 portable spectrum analyzer used as the \"receiver\". The recepetion attempt was made using a is a log-periogic antenna\n",
    "\n",
    "**TODO:** get the spec for the antenna used\n",
    "\n",
    "## Contacts\n",
    "\n",
    "### Two failed attempts\n",
    "\n",
    "The first two attempts at detecting the APT transmission using the FSH 4 and a log-periodic antenna failed.\n",
    "\n",
    "Reception configuration:\n",
    "\n",
    "- Spectrum analyzer as receiver\n",
    "    - center: 137.5MHz\n",
    "    - span: 1MHz\n",
    "    - RBW: 3kHz\n",
    "    - Att: 0 dB\n",
    "- antenna: wideband log-periodic\n",
    "\n",
    "The RBW setting might have been something else, I'm not sure. In retrospect, considering the 34 kHz width an APT transmission, the spectrum analyser setting might have not been suitable. The satellite orbits were not great either, and we were not exaclty sure in which direction south was.\n",
    "\n",
    "\n",
    "### 16:27 UTC+2 NOAA 15 orbit 91282 137.5000 MHz\n",
    "\n",
    "This attempt seemed promising, with an orbit peak elevation of over 70 degrees, which is higher than the two earlier attemps. But, no luck.\n",
    "\n",
    "We also tried another antenna (**TODO:** what antenna?) but saw no difference.\n",
    "\n",
    "Reception configuration:\n",
    "\n",
    "- FSH 4 Spectrum analyzer as receiver\n",
    "    - center: 137.5 MHZ\n",
    "    - span: 200 kHz\n",
    "    - RBW: 3 kHz\n",
    "    - Att: 0 dB\n",
    "- antenna: wideband log-periodic\n",
    "\n",
    "### 16:50 UTC+2 NOAA 18 orbit 54283 137.9125 MHz\n",
    "\n",
    "**successfully viewed the transmission** on the spectrum analyzer. \n",
    "\n",
    "Reception configuration:\n",
    "\n",
    "- FSH 4 Spectrum analyzer as receiver\n",
    "    - center: 137.9125 MHZ\n",
    "    - span: 100 kHz\n",
    "    - RBW: 100 Hz\n",
    "    - Att: 0dB\n",
    "    - ref-level: -60 dBm\n",
    "- antenna: wideband log-periodic\n",
    "\n"
   ]
  },
  {
   "cell_type": "code",
   "execution_count": 12,
   "metadata": {
    "collapsed": false
   },
   "outputs": [
    {
     "data": {
      "text/plain": [
       "-163.97722915699805"
      ]
     },
     "execution_count": 12,
     "metadata": {},
     "output_type": "execute_result"
    }
   ],
   "source": [
    "noise_power_100hz = 10 * log(10, 138e-23 * 290 * 100)"
   ]
  },
  {
   "cell_type": "code",
   "execution_count": 13,
   "metadata": {
    "collapsed": false
   },
   "outputs": [
    {
     "data": {
      "text/plain": [
       "-149.20601660980142"
      ]
     },
     "execution_count": 13,
     "metadata": {},
     "output_type": "execute_result"
    }
   ],
   "source": [
    "noise_power_3khz =  10 * log(10, 138e-23 * 290 * 3000)"
   ]
  },
  {
   "cell_type": "markdown",
   "metadata": {},
   "source": [
    "\n",
    "\n",
    "![tranmission spectrum](./photos/20151202_170044.jpg)\n",
    "\n"
   ]
  },
  {
   "cell_type": "code",
   "execution_count": null,
   "metadata": {
    "collapsed": true
   },
   "outputs": [],
   "source": []
  }
 ],
 "metadata": {
  "kernelspec": {
   "display_name": "Julia 0.4.1",
   "language": "julia",
   "name": "julia-0.4"
  },
  "language_info": {
   "file_extension": ".jl",
   "mimetype": "application/julia",
   "name": "julia",
   "version": "0.4.1"
  }
 },
 "nbformat": 4,
 "nbformat_minor": 0
}
